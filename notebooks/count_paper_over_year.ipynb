{
 "cells": [
  {
   "attachments": {},
   "cell_type": "markdown",
   "metadata": {},
   "source": [
    "# "
   ]
  },
  {
   "cell_type": "markdown",
   "metadata": {},
   "source": [
    "# Paper by Year"
   ]
  },
  {
   "cell_type": "code",
   "execution_count": null,
   "metadata": {},
   "outputs": [],
   "source": [
    "from backend.database import *\n",
    "import pandas as pd\n",
    "import altair as alt"
   ]
  },
  {
   "cell_type": "code",
   "execution_count": null,
   "metadata": {},
   "outputs": [],
   "source": [
    "papers = get_papers()\n",
    "\n",
    "data = {\n",
    "    \"published_date\": [],\n",
    "    \"doi\": [],\n",
    "    \"year\": [],\n",
    "    \"title\": [],\n",
    "    \"publication_info_summary\": [],\n",
    "}\n",
    "\n",
    "for paper in papers:\n",
    "    if all(\n",
    "        [paper.published_on, paper.doi, paper.title, paper.publication_info_summary]\n",
    "    ):\n",
    "        data[\"published_date\"].append(paper.published_on)\n",
    "        data[\"doi\"].append(paper.doi)\n",
    "        data[\"year\"].append(paper.published_on.year)\n",
    "        data[\"title\"].append(paper.title)\n",
    "        data[\"publication_info_summary\"].append(paper.publication_info_summary)"
   ]
  },
  {
   "cell_type": "code",
   "execution_count": null,
   "metadata": {},
   "outputs": [],
   "source": [
    "df = pd.DataFrame(data)\n",
    "df = df.sort_values(by=\"published_date\")"
   ]
  },
  {
   "cell_type": "code",
   "execution_count": null,
   "metadata": {},
   "outputs": [],
   "source": [
    "df.to_csv(\"papers_231030.csv\", index=False)"
   ]
  },
  {
   "cell_type": "markdown",
   "metadata": {},
   "source": [
    "Make a count paper by year file"
   ]
  },
  {
   "cell_type": "code",
   "execution_count": null,
   "metadata": {},
   "outputs": [],
   "source": [
    "df_count = (\n",
    "    df.groupby(\"year\")\n",
    "    .agg({\"doi\": \"count\"})\n",
    "    .reset_index()\n",
    "    .rename(columns={\"doi\": \"count\"})\n",
    ")\n",
    "df_count[\"cumulative_count\"] = df_count[\"count\"].cumsum()"
   ]
  },
  {
   "cell_type": "code",
   "execution_count": null,
   "metadata": {},
   "outputs": [],
   "source": [
    "df_count"
   ]
  },
  {
   "cell_type": "code",
   "execution_count": null,
   "metadata": {},
   "outputs": [],
   "source": [
    "plot = (\n",
    "    alt.Chart(df_count)\n",
    "    .mark_line()\n",
    "    .encode(x=\"year:O\", y=\"cumulative_count:Q\")\n",
    "    .properties(\n",
    "        title=\"Cumulative number of SBI papers since 2001\", width=600, height=400\n",
    "    )\n",
    ")"
   ]
  },
  {
   "cell_type": "code",
   "execution_count": null,
   "metadata": {},
   "outputs": [],
   "source": [
    "plot.save(\"cumulative_count.html\")"
   ]
  }
 ],
 "metadata": {
  "kernelspec": {
   "display_name": "sbi",
   "language": "python",
   "name": "python3"
  },
  "language_info": {
   "codemirror_mode": {
    "name": "ipython",
    "version": 3
   },
   "file_extension": ".py",
   "mimetype": "text/x-python",
   "name": "python",
   "nbconvert_exporter": "python",
   "pygments_lexer": "ipython3",
   "version": "3.10.12"
  },
  "orig_nbformat": 4
 },
 "nbformat": 4,
 "nbformat_minor": 2
}
