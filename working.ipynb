{
 "cells": [
  {
   "cell_type": "code",
   "execution_count": null,
   "metadata": {},
   "outputs": [],
   "source": [
    "!python main.py"
   ]
  },
  {
   "cell_type": "code",
   "execution_count": null,
   "metadata": {},
   "outputs": [],
   "source": [
    "# Only remake all .md posts\n",
    "from scholar.post_maker import make_all\n",
    "\n",
    "make_all(overwrite=True)"
   ]
  },
  {
   "attachments": {},
   "cell_type": "markdown",
   "metadata": {},
   "source": [
    "# Archive\n",
    "\n",
    "Contains 1 off snippets to make change to the system."
   ]
  },
  {
   "attachments": {},
   "cell_type": "markdown",
   "metadata": {},
   "source": [
    "## Add new column called arxiv_term in SQLite"
   ]
  },
  {
   "cell_type": "code",
   "execution_count": null,
   "metadata": {},
   "outputs": [],
   "source": [
    "# import sqlite3\n",
    "\n",
    "# Drop column\n",
    "# with sqlite3.connect('scholar/paper.db') as conn:\n",
    "#     c = conn.cursor()\n",
    "#     c.execute('ALTER TABLE paper DROP COLUMN arxiv_group_tag;')\n",
    "#     conn.commit()\n",
    "\n",
    "# with sqlite3.connect(\"scholar/paper.db\") as conn:\n",
    "#     c = conn.cursor()\n",
    "#     c.execute(\"ALTER TABLE paper ADD COLUMN category VARCHAR(255);\")\n",
    "#     conn.commit()"
   ]
  },
  {
   "attachments": {},
   "cell_type": "markdown",
   "metadata": {},
   "source": [
    "## Compute new column"
   ]
  },
  {
   "cell_type": "code",
   "execution_count": null,
   "metadata": {},
   "outputs": [],
   "source": [
    "# import sqlite3\n",
    "# import pandas as pd\n",
    "# from scholar.database import Paper\n",
    "\n",
    "# with sqlite3.connect(\"scholar/paper.db\") as conn:\n",
    "\n",
    "#     # Add journal column\n",
    "#     cursor = conn.cursor()\n",
    "#     cursor.execute(\"ALTER TABLE paper ADD COLUMN journal VARCHAR(255);\")\n",
    "\n",
    "#     # Export data to pandas for easier manipulation\n",
    "#     df = pd.read_sql_query(\"SELECT * FROM paper\", conn)\n",
    "\n",
    "\n",
    "# # Extract journal name from publication_info_summary\n",
    "# journals = df.publication_info_summary.str.split(\" - \", expand=True)[2]\n",
    "\n",
    "# # Update the database\n",
    "# for record, new_value in zip(Paper.select(), journals):\n",
    "#     record.journal = new_value\n",
    "#     record.save()"
   ]
  },
  {
   "attachments": {},
   "cell_type": "markdown",
   "metadata": {},
   "source": [
    "## Patch arxiv"
   ]
  },
  {
   "cell_type": "code",
   "execution_count": null,
   "metadata": {},
   "outputs": [],
   "source": [
    "Paper.delete().where(Paper.id == 389).execute()"
   ]
  },
  {
   "cell_type": "code",
   "execution_count": null,
   "metadata": {},
   "outputs": [],
   "source": [
    "from scholar.database import Paper\n",
    "from scholar.api import query_arxiv\n",
    "\n",
    "papers = Paper.select().where(\n",
    "    Paper.title == \"Reallocating and Resampling: A Comparison for Inference\"\n",
    ")\n",
    "for paper in papers:\n",
    "    print(paper.title)\n",
    "    print(paper.arxiv_id)\n",
    "\n",
    "    paper.arxiv_id = \"1708.02102\"\n",
    "    new_info = query_arxiv(paper.arxiv_id)"
   ]
  },
  {
   "cell_type": "code",
   "execution_count": null,
   "metadata": {},
   "outputs": [],
   "source": [
    "from scholar.database import Paper\n",
    "from scholar.api import query_arxiv, sanitize_title\n",
    "import datetime\n",
    "\n",
    "papers = Paper.select().where(Paper.published_on.year == 2000)\n",
    "\n",
    "for paper in papers:\n",
    "    print(paper.title)\n",
    "    # print(paper.publication_info_summary)\n",
    "    paper.published_on = datetime.datetime(2015, 10, 11)\n",
    "    paper.save()\n",
    "    # new_info = query_arxiv(paper.arxiv_id)\n",
    "    # if new_info is not None:\n",
    "    #     print(f\"Updating {paper.id} {paper.title}\")\n",
    "    #     print(sanitize_title(new_info[\"title\"]))\n",
    "    #     paper.title = sanitize_title(new_info[\"title\"])\n",
    "    #     paper.authors = new_info[\"authors\"]\n",
    "    #     paper.arxiv_category_tag = new_info[\"arxiv_category_tag\"]\n",
    "    #     paper.category = new_info[\"category\"]\n",
    "    #     paper.published_on = new_info[\"published_on\"]\n",
    "    #     paper.save()"
   ]
  },
  {
   "cell_type": "code",
   "execution_count": null,
   "metadata": {},
   "outputs": [],
   "source": [
    "len_dict"
   ]
  },
  {
   "cell_type": "code",
   "execution_count": null,
   "metadata": {},
   "outputs": [],
   "source": [
    "import arxiv\n",
    "\n",
    "\n",
    "search = arxiv.Search(id_list=[\"1811.02963\"], max_results=1)\n",
    "result = next(search.results())"
   ]
  },
  {
   "cell_type": "code",
   "execution_count": null,
   "metadata": {},
   "outputs": [],
   "source": [
    "{\n",
    "    \"authors\": \", \".join([str(author) for author in result.authors]),\n",
    "    \"doi\": result.doi,\n",
    "    \"arxiv_category_tag\": result.primary_category,\n",
    "    \"category\": result.primary_category,\n",
    "    \"published_on\": result.published,\n",
    "    \"title\": result.title,\n",
    "}"
   ]
  },
  {
   "cell_type": "code",
   "execution_count": null,
   "metadata": {},
   "outputs": [],
   "source": [
    "result"
   ]
  },
  {
   "cell_type": "code",
   "execution_count": null,
   "metadata": {},
   "outputs": [],
   "source": [
    "result.keys()"
   ]
  },
  {
   "cell_type": "code",
   "execution_count": null,
   "metadata": {},
   "outputs": [],
   "source": [
    "repeated_journals = {k: v for k, v in all_journals.items() if v >= 3}\n",
    "sorted_journals = sorted(repeated_journals.items(), key=lambda x: x[1], reverse=False)"
   ]
  },
  {
   "cell_type": "code",
   "execution_count": null,
   "metadata": {},
   "outputs": [],
   "source": [
    "# Naive whitelist, count >= 3...\n",
    "with open(\"scholar/whitelist_journals.txt\", \"w\") as f:\n",
    "    for key in repeated_journals.keys():\n",
    "        f.write(key + \"\\n\")"
   ]
  },
  {
   "attachments": {},
   "cell_type": "markdown",
   "metadata": {},
   "source": [
    "## Query SERP for older papers\n",
    "\n",
    "Get top-1000 relevant papers = 50 queries"
   ]
  },
  {
   "cell_type": "code",
   "execution_count": null,
   "metadata": {},
   "outputs": [],
   "source": [
    "from scholar.api import query_serp, query_arxiv, query_biorxiv\n",
    "from scholar.database import insert_result\n",
    "\n",
    "# term = '\"simulation-based+inference\"'\n",
    "# next_url = None\n",
    "\n",
    "# term = None\n",
    "# next_url = \"https://serpapi.com/search.json?as_sdt=0%2C5&as_vis=1&as_ylo=2000&engine=google_scholar&hl=en&num=20&q=%22simulation-based%2Binference%22&start=100\"\n",
    "\n",
    "# for _ in range(5):\n",
    "#     results = query_serp(url=next_url, term=term, historical=True)\n",
    "\n",
    "#     for result in results[\"formatted_results\"]:\n",
    "#         # Append extra arxiv data\n",
    "#         if result[\"journal\"] == \"arxiv.org\":\n",
    "#             arxiv_data = query_arxiv(result[\"arxiv_id\"])\n",
    "#             if arxiv_data is not None:\n",
    "#                 result.update(arxiv_data)\n",
    "\n",
    "#         # Append extra biorxiv data\n",
    "#         if result[\"journal\"] == \"biorxiv.org\":\n",
    "#             biorxiv_data = query_biorxiv(result[\"doi\"])\n",
    "#             if biorxiv_data is not None:\n",
    "#                 result.update(biorxiv_data)\n",
    "\n",
    "#         # Insert into database\n",
    "#         insert_result(result)\n",
    "\n",
    "#         try:\n",
    "#             next_url = results[\"serpapi_pagination\"][\"next\"]\n",
    "#             term = None\n",
    "#         except KeyError:\n",
    "#             break"
   ]
  },
  {
   "cell_type": "code",
   "execution_count": null,
   "metadata": {},
   "outputs": [],
   "source": []
  },
  {
   "cell_type": "code",
   "execution_count": null,
   "metadata": {},
   "outputs": [],
   "source": []
  },
  {
   "cell_type": "code",
   "execution_count": null,
   "metadata": {},
   "outputs": [],
   "source": []
  },
  {
   "cell_type": "code",
   "execution_count": null,
   "metadata": {},
   "outputs": [],
   "source": []
  }
 ],
 "metadata": {
  "kernelspec": {
   "display_name": "sbi",
   "language": "python",
   "name": "python3"
  },
  "language_info": {
   "codemirror_mode": {
    "name": "ipython",
    "version": 3
   },
   "file_extension": ".py",
   "mimetype": "text/x-python",
   "name": "python",
   "nbconvert_exporter": "python",
   "pygments_lexer": "ipython3",
   "version": "3.10.11"
  },
  "orig_nbformat": 4
 },
 "nbformat": 4,
 "nbformat_minor": 2
}
