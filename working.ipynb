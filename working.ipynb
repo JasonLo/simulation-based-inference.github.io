{
 "cells": [
  {
   "cell_type": "code",
   "execution_count": 1,
   "metadata": {},
   "outputs": [
    {
     "name": "stdout",
     "output_type": "stream",
     "text": [
      "Markdown file created successfully: SimBIG: mock challenge for a forward modeling approach to galaxy clustering\n",
      "Markdown file created successfully: Albatross: A scalable simulation-based inference pipeline for analysing stellar streams in the Milky Way\n",
      "Markdown file created successfully: Peregrine: Sequential simulation-based inference for gravitational wave signals\n",
      "Markdown file created successfully: Amortized Bayesian inference on generative dynamical network models of epilepsy using deep neural density estimators\n",
      "Markdown file created successfully: Simulation-based Inference for Model Parameterization on Analog Neuromorphic Hardware\n",
      "Markdown file created successfully: Investigating the turbulent hot gas in X-COP galaxy clusters\n",
      "Markdown file created successfully: Constraining the X-ray heating and reionization using 21-cm power spectra with Marginal Neural Ratio Estimation\n",
      "Markdown file created successfully: Modelling capture efficiency of single cell RNA-sequencing data improves inference of transcriptome-wide burst kinetics\n",
      "Markdown file created successfully: Ultra-High-Resolution Detector Simulation with Intra-Event Aware GAN and Self-Supervised Relational Reasoning\n",
      "Markdown file created successfully: Combined statistical-mechanistic modeling links ion channel genes to physiology of cortical neuron types\n",
      "Markdown file created successfully: Bayesian Inference of a Spectral Graph Model for Brain Oscillations\n",
      "Markdown file created successfully: Recurrent connectivity structure controls the emergence of co-tuned excitation and inhibition\n",
      "Markdown file created successfully: Determining Basal Mass Balance of Ice Shelves Using Simulation-Based Inference\n",
      "Markdown file created successfully: Towards Bayesian Full-Waveform Source Inversion using Simulation-Based Inference\n",
      "Markdown file created successfully: Estimation of erosion rate parameters from neural network inverse modeling of river profile and thermo-geochronology data\n",
      "Markdown file created successfully: Radar forward modelling as a precursor for statistical inference\n",
      "Markdown file created successfully: JANA: Jointly Amortized Neural Approximation of Complex Bayesian Models\n",
      "Markdown file created successfully: swyft: Scientific simulation-based inference at scale\n",
      "Markdown file created successfully: Simulation-based inference of single-molecule force spectroscopy\n",
      "Markdown file created successfully: Sampling-Based Accuracy Testing of Posterior Estimators for General Inference\n",
      "Markdown file created successfully: Simulation-based inference for efficient identification of generative models in connectomics\n",
      "Markdown file created successfully: Simulation-based inference for non-parametric statistical comparison of biomolecule dynamics\n",
      "Markdown file created successfully: Misspecification-robust sequential neural likelihood\n",
      "Markdown file created successfully: SOBER: Scalable Batch Bayesian Optimization and Quadrature using Recombination Constraints\n",
      "Markdown file created successfully: Analytical and Stochastic Numerical Methods for the Simulation of Subsurface Flow in Floodplains\n",
      "Markdown file created successfully: Improving Effectiveness of Simulation-Based Inference in the Massively Parallel Regime\n",
      "Markdown file created successfully: PhyloCoalSimulations: A simulator for network multispecies coalescent models, including a new extension for the inheritance of gene flow\n",
      "Markdown file created successfully: Neural posterior estimation for exoplanetary atmospheric retrieval\n",
      "Markdown file created successfully: Université Paris-Saclay, Inria, CEA Palaiseau, 91120, France louis. rouillard-odera@ inria. fr\n",
      "Markdown file created successfully: Debiasing Standard Siren Inference of the Hubble Constant with Marginal Neural Ratio Estimation\n",
      "Markdown file created successfully: Missing data in amortized simulation-based neural posterior estimation\n",
      "Markdown file created successfully: A data integration framework for spatial interpolation of temperature observations using climate model data\n",
      "Markdown file created successfully: Mutation rate, selection, and epistasis inferred from RNA virus haplotypes via neural posterior estimation\n",
      "Markdown file created successfully: Emulating hydrodynamic simulations with semi-analytic modeling: comparing the evolution of global quantities in the Santa Cruz SAM and IllustrisTNG\n",
      "Markdown file created successfully: Milky Way Structure Revealed by Galactic HII Regions\n",
      "Markdown file created successfully: Uncovering dark matter density profiles in dwarf galaxies with simulation-based inference and graph neural networks\n",
      "Markdown file created successfully: Learning fire spread dynamics with physics-constrained machine learning\n",
      "Markdown file created successfully: Simulation-based inference of differentiation trajectories from RNA velocity fields\n",
      "Markdown file created successfully: A simulation-based inference pipeline for cosmic shear with the Kilo-Degree Survey\n",
      "Markdown file created successfully: STUDENT PERFORMANCE IN CURRICULA CENTERED ON SIMULATION-BASED INFERENCE\n",
      "Markdown file created successfully: Truncated Marginal Neural Ratio Estimation\n",
      "Markdown file created successfully: Simulation-based inference of the 2D ex-situ stellar mass fraction distribution of galaxies using variational autoencoders\n",
      "Markdown file created successfully: Addressing out-of-distribution data for flow-based gravitational wave inference\n",
      "Markdown file created successfully: Validation Diagnostics for SBI algorithms based on Normalizing Flows\n",
      "Markdown file created successfully: Detection is truncation: studying source populations with truncated marginal neural ratio estimation\n",
      "Markdown file created successfully: Strong Lensing Parameter Estimation on Ground-Based Imaging Data Using Simulation-Based Inference\n",
      "Markdown file created successfully: Amortized bayesian inference for supernovae in the era of the vera rubin observatory using normalizing flows\n",
      "Markdown file created successfully: Monte Carlo Techniques for Addressing Large Errors and Missing Data in Simulation-based Inference\n"
     ]
    },
    {
     "name": "stderr",
     "output_type": "stream",
     "text": [
      "Traceback (most recent call last):\n",
      "  File \"c:\\Users\\clo36\\repo\\simulation-based-inference.github.io\\main.py\", line 18, in <module>\n",
      "    make_all()\n",
      "  File \"c:\\Users\\clo36\\repo\\simulation-based-inference.github.io\\scholar\\post_maker.py\", line 40, in make_all\n",
      "    make_md_post(paper)\n",
      "  File \"c:\\Users\\clo36\\repo\\simulation-based-inference.github.io\\scholar\\post_maker.py\", line 31, in make_md_post\n",
      "    with open(POST_DIR / file_name, \"w\", encoding=\"utf-8\") as f:\n",
      "FileNotFoundError: [Errno 2] No such file or directory: '_posts\\\\2022-11-01-${\\\\rm-s-{\\\\scriptsize-im}-big}-$-mock-challenge-for-a-forward-modeling-approach-to-galaxy-clustering.md'\n"
     ]
    }
   ],
   "source": [
    "!python main.py"
   ]
  }
 ],
 "metadata": {
  "kernelspec": {
   "display_name": "sbi",
   "language": "python",
   "name": "python3"
  },
  "language_info": {
   "codemirror_mode": {
    "name": "ipython",
    "version": 3
   },
   "file_extension": ".py",
   "mimetype": "text/x-python",
   "name": "python",
   "nbconvert_exporter": "python",
   "pygments_lexer": "ipython3",
   "version": "3.9.16"
  },
  "orig_nbformat": 4
 },
 "nbformat": 4,
 "nbformat_minor": 2
}
