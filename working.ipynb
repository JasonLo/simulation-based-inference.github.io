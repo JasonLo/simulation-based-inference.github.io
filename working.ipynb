{
 "cells": [
  {
   "cell_type": "code",
   "execution_count": null,
   "metadata": {},
   "outputs": [],
   "source": [
    "!python main.py"
   ]
  },
  {
   "cell_type": "code",
   "execution_count": null,
   "metadata": {},
   "outputs": [],
   "source": [
    "# Master reset all databases and posts\n",
    "from main import reset\n",
    "\n",
    "reset()"
   ]
  },
  {
   "cell_type": "code",
   "execution_count": null,
   "metadata": {},
   "outputs": [],
   "source": [
    "# Only remake all .md posts\n",
    "from scholar.post_maker import make_all\n",
    "\n",
    "make_all(overwrite=True)"
   ]
  },
  {
   "attachments": {},
   "cell_type": "markdown",
   "metadata": {},
   "source": [
    "# Archive"
   ]
  },
  {
   "attachments": {},
   "cell_type": "markdown",
   "metadata": {},
   "source": [
    "## Add new column called arxiv_term in SQLite"
   ]
  },
  {
   "cell_type": "code",
   "execution_count": null,
   "metadata": {},
   "outputs": [],
   "source": [
    "# import sqlite3\n",
    "\n",
    "# Reset the new columns\n",
    "# with sqlite3.connect('scholar/paper.db') as conn:\n",
    "#     c = conn.cursor()\n",
    "#     c.execute('ALTER TABLE paper DROP COLUMN arxiv_term_short;')\n",
    "#     c.execute('ALTER TABLE paper DROP COLUMN arxiv_term_long;')\n",
    "#     conn.commit()\n",
    "\n",
    "# with sqlite3.connect(\"scholar/paper.db\") as conn:\n",
    "#     c = conn.cursor()\n",
    "#     c.execute(\"ALTER TABLE paper ADD COLUMN arxiv_group_tag VARCHAR(255);\")\n",
    "#     c.execute(\"ALTER TABLE paper ADD COLUMN arxiv_category_tag VARCHAR(255);\")\n",
    "#     conn.commit()"
   ]
  },
  {
   "attachments": {},
   "cell_type": "markdown",
   "metadata": {},
   "source": [
    "## Patch category and group tag to database"
   ]
  },
  {
   "cell_type": "code",
   "execution_count": null,
   "metadata": {},
   "outputs": [],
   "source": [
    "import arxiv\n",
    "\n",
    "search = arxiv.Search(query=f\"ti:Simulation-based inference\", max_results=1)\n",
    "result = next(search.results())"
   ]
  },
  {
   "cell_type": "code",
   "execution_count": null,
   "metadata": {},
   "outputs": [],
   "source": [
    "result.entry_id.split(\"/\")[-1]"
   ]
  },
  {
   "cell_type": "code",
   "execution_count": null,
   "metadata": {},
   "outputs": [],
   "source": [
    "def arxiv_to_bibtex(entry):\n",
    "    bibtex = \"@article{{{},\\n\".format(entry.get(\"id\").replace(\"/\", \"_\"))\n",
    "\n",
    "    # Title\n",
    "    title = entry.get(\"title\").replace(\"\\n\", \" \").replace(\"\\r\", \"\").strip()\n",
    "    bibtex += \"  title={{ {} }},\\n\".format(title)\n",
    "\n",
    "    # Author(s)\n",
    "    authors = \" and \".join(author.name for author in entry.get(\"authors\"))\n",
    "    bibtex += \"  author={{ {} }},\\n\".format(authors)\n",
    "\n",
    "    # Journal\n",
    "    bibtex += \"  journal={{ arXiv preprint }},\\n\"\n",
    "\n",
    "    # Year\n",
    "    year = entry.get(\"published\")[:4]\n",
    "    bibtex += \"  year={{ {} }},\\n\".format(year)\n",
    "\n",
    "    # URL\n",
    "    url = entry.get(\"id\")\n",
    "    bibtex += \"  url={{ {} }},\\n\".format(url)\n",
    "\n",
    "    # eprint (arXiv ID)\n",
    "    eprint = re.sub(r\"http[s]?://arxiv.org/abs/\", \"\", entry.get(\"id\"))\n",
    "    bibtex += \"  eprint={{ {} }}\\n\".format(eprint)\n",
    "\n",
    "    bibtex += \"}\\n\"\n",
    "\n",
    "    return bibtex"
   ]
  },
  {
   "cell_type": "code",
   "execution_count": null,
   "metadata": {},
   "outputs": [],
   "source": [
    "arxiv_to_bibtex(result)"
   ]
  }
 ],
 "metadata": {
  "kernelspec": {
   "display_name": "sbi",
   "language": "python",
   "name": "python3"
  },
  "language_info": {
   "codemirror_mode": {
    "name": "ipython",
    "version": 3
   },
   "file_extension": ".py",
   "mimetype": "text/x-python",
   "name": "python",
   "nbconvert_exporter": "python",
   "pygments_lexer": "ipython3",
   "version": "3.9.16"
  },
  "orig_nbformat": 4
 },
 "nbformat": 4,
 "nbformat_minor": 2
}
